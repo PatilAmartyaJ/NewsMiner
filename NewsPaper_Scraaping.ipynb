def getUrl(location,date_obj):
   url='https://epaper.lokmat.com/main-editions/'+location
   url+="%20Main/"
   url+= str(date_obj)
   url+="/"
   url+="1"
   print(url)
   return url
